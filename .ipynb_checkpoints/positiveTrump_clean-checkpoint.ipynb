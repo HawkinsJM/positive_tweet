{
 "cells": [
  {
   "cell_type": "code",
   "execution_count": 1,
   "metadata": {
    "collapsed": false
   },
   "outputs": [
    {
     "ename": "ImportError",
     "evalue": "No module named positive_tweet",
     "output_type": "error",
     "traceback": [
      "\u001b[0;31m---------------------------------------------------------------------------\u001b[0m",
      "\u001b[0;31mImportError\u001b[0m                               Traceback (most recent call last)",
      "\u001b[0;32m<ipython-input-1-c4480699f2ff>\u001b[0m in \u001b[0;36m<module>\u001b[0;34m()\u001b[0m\n\u001b[1;32m      1\u001b[0m \u001b[0;32mimport\u001b[0m \u001b[0mtweepy\u001b[0m\u001b[0;34m\u001b[0m\u001b[0m\n\u001b[0;32m----> 2\u001b[0;31m \u001b[0;32mfrom\u001b[0m \u001b[0mpositive_tweet\u001b[0m \u001b[0;32mimport\u001b[0m \u001b[0mpositive_tweet\u001b[0m\u001b[0;34m\u001b[0m\u001b[0m\n\u001b[0m\u001b[1;32m      3\u001b[0m \u001b[0;32mimport\u001b[0m \u001b[0mHTMLParser\u001b[0m\u001b[0;34m\u001b[0m\u001b[0m\n",
      "\u001b[0;31mImportError\u001b[0m: No module named positive_tweet"
     ]
    }
   ],
   "source": [
    "import tweepy\n",
    "from positive_tweet import positive_tweet\n",
    "import HTMLParser"
   ]
  },
  {
   "cell_type": "code",
   "execution_count": null,
   "metadata": {
    "collapsed": true
   },
   "outputs": [],
   "source": [
    "# Import API Keys\n",
    "with open('twitter_creds.json') as creds:    \n",
    "    credentials = json.load(creds)"
   ]
  },
  {
   "cell_type": "code",
   "execution_count": 2,
   "metadata": {
    "collapsed": true
   },
   "outputs": [],
   "source": [
    "#Access the twitter API\n",
    "consumer_key = \"8dovJ0faAtEilxtHGzzOmPju6\"\n",
    "consumer_secret = \"hRe4VHFj9t6y6FTJstFHZUrM0JKi5jUNdjRUft7vdm34rYybzs\"\n",
    "access_token = \"829207462582611970-UlZb589Gb9cMUjtKt2vNV6KEX8MGwXl\"\n",
    "access_token_secret = \"tdT8x4DmMLs1JP0V8tbCj0SCjUQzZOOOUEBL5yERZYBEg\"\n",
    "\n",
    "auth = tweepy.OAuthHandler(consumer_key, consumer_secret)\n",
    "auth.set_access_token(access_token, access_token_secret)\n",
    "\n",
    "api = tweepy.API(auth)"
   ]
  },
  {
   "cell_type": "code",
   "execution_count": 3,
   "metadata": {
    "collapsed": false
   },
   "outputs": [
    {
     "name": "stdout",
     "output_type": "stream",
     "text": [
      "Now listening to account: realDonaldTrump\n"
     ]
    }
   ],
   "source": [
    "#Set user to follow and pull tweets from\n",
    "username = 'realDonaldTrump'\n",
    "public_tweets = api.user_timeline(username)\n",
    "user = api.get_user(username)\n",
    "print \"Now listening to account: \" + username"
   ]
  },
  {
   "cell_type": "code",
   "execution_count": 4,
   "metadata": {
    "collapsed": false
   },
   "outputs": [],
   "source": [
    "#post positive version of tweet\n",
    "def post_tweet(original_tweet):\n",
    "    n=0\n",
    "    posttweet = positive_tweet(original_tweet.text)\n",
    "    #loop through and see if it comes up with a shorter tweet if over 140 characters\n",
    "    while n <100 and len(posttweet)>140:\n",
    "        n=n+1\n",
    "        posttweet = positive_tweet(original_tweet.text)\n",
    "    #If the original tweet is the same as the modified one (no ngative words found), retweet the original.  Otherwise, post the modified tweet.\n",
    "    if HTMLParser.HTMLParser().unescape(original_tweet.text) != posttweet:\n",
    "        try:\n",
    "            api.update_status(posttweet)\n",
    "            print \"Tweet posted\"\n",
    "            print original_tweet.text\n",
    "            print posttweet\n",
    "        except:\n",
    "            print \"too long, not posted\"\n",
    "    else:\n",
    "        api.retweet(original_tweet.id)"
   ]
  },
  {
   "cell_type": "code",
   "execution_count": 5,
   "metadata": {
    "collapsed": false
   },
   "outputs": [],
   "source": [
    "#Stream posts from twitter and post positive tweets\n",
    "class MyStreamListener(tweepy.StreamListener):\n",
    "\n",
    "    def on_status(self, status):\n",
    "        #when an event is detected print the text of the event and then post the positive tweet\n",
    "        print(\"New tweet detected\")\n",
    "        print status.text\n",
    "        #post_tweet(status)\n",
    "\n",
    "\n",
    "myStreamListener = MyStreamListener()\n",
    "myStream = tweepy.Stream(auth = api.auth, listener=myStreamListener)\n",
    "myStream.filter(track=[str(user.id)])\n"
   ]
  },
  {
   "cell_type": "code",
   "execution_count": null,
   "metadata": {
    "collapsed": true
   },
   "outputs": [],
   "source": []
  }
 ],
 "metadata": {
  "kernelspec": {
   "display_name": "Python 2",
   "language": "python",
   "name": "python2"
  },
  "language_info": {
   "codemirror_mode": {
    "name": "ipython",
    "version": 2
   },
   "file_extension": ".py",
   "mimetype": "text/x-python",
   "name": "python",
   "nbconvert_exporter": "python",
   "pygments_lexer": "ipython2",
   "version": "2.7.12"
  }
 },
 "nbformat": 4,
 "nbformat_minor": 2
}
