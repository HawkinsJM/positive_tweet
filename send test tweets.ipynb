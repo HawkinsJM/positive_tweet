{
 "cells": [
  {
   "cell_type": "code",
   "execution_count": 7,
   "metadata": {
    "collapsed": true
   },
   "outputs": [],
   "source": [
    "import tweepy\n",
    "import json"
   ]
  },
  {
   "cell_type": "code",
   "execution_count": 8,
   "metadata": {
    "collapsed": true
   },
   "outputs": [],
   "source": [
    "# Import API Keys from test account\n",
    "with open('jhtestacc_creds.json') as creds:    \n",
    "    tw_creds = json.load(creds)"
   ]
  },
  {
   "cell_type": "code",
   "execution_count": 9,
   "metadata": {
    "collapsed": true
   },
   "outputs": [],
   "source": [
    "#post to test account\n",
    "test_auth = tweepy.OAuthHandler(tw_creds['consumer_key'], tw_creds['consumer_secret'])\n",
    "test_auth.set_access_token(tw_creds['access_token'], tw_creds['access_secret'])\n",
    "\n",
    "test_api = tweepy.API(test_auth)"
   ]
  },
  {
   "cell_type": "code",
   "execution_count": 19,
   "metadata": {
    "collapsed": false
   },
   "outputs": [
    {
     "data": {
      "text/plain": [
       "Status(contributors=None, truncated=False, text=u'watch me ghj khkbn bad sad mad cool mad deniable two day', is_quote_status=False, in_reply_to_status_id=None, id=837857435603750912, favorite_count=0, _api=<tweepy.api.API object at 0x7fbbbc070710>, author=User(follow_request_sent=False, has_extended_profile=False, profile_use_background_image=True, _json={u'follow_request_sent': False, u'has_extended_profile': False, u'profile_use_background_image': True, u'default_profile_image': True, u'id': 836323946488176640, u'profile_background_image_url_https': None, u'verified': False, u'translator_type': u'none', u'profile_text_color': u'333333', u'profile_image_url_https': u'https://abs.twimg.com/sticky/default_profile_images/default_profile_4_normal.png', u'profile_sidebar_fill_color': u'DDEEF6', u'entities': {u'description': {u'urls': []}}, u'followers_count': 0, u'profile_sidebar_border_color': u'C0DEED', u'id_str': u'836323946488176640', u'profile_background_color': u'F5F8FA', u'listed_count': 0, u'is_translation_enabled': False, u'utc_offset': None, u'statuses_count': 19, u'description': u'', u'friends_count': 0, u'location': u'', u'profile_link_color': u'1DA1F2', u'profile_image_url': u'http://abs.twimg.com/sticky/default_profile_images/default_profile_4_normal.png', u'following': False, u'geo_enabled': False, u'profile_background_image_url': None, u'screen_name': u'jhtestacc', u'lang': u'en', u'profile_background_tile': False, u'favourites_count': 0, u'name': u'Jeff Hawkins', u'notifications': False, u'url': None, u'created_at': u'Mon Feb 27 21:15:41 +0000 2017', u'contributors_enabled': False, u'time_zone': None, u'protected': False, u'default_profile': True, u'is_translator': False}, time_zone=None, id=836323946488176640, description=u'', _api=<tweepy.api.API object at 0x7fbbbc070710>, verified=False, profile_text_color=u'333333', profile_image_url_https=u'https://abs.twimg.com/sticky/default_profile_images/default_profile_4_normal.png', profile_sidebar_fill_color=u'DDEEF6', is_translator=False, geo_enabled=False, entities={u'description': {u'urls': []}}, followers_count=0, protected=False, id_str=u'836323946488176640', default_profile_image=True, listed_count=0, lang=u'en', utc_offset=None, statuses_count=19, profile_background_color=u'F5F8FA', friends_count=0, profile_link_color=u'1DA1F2', profile_image_url=u'http://abs.twimg.com/sticky/default_profile_images/default_profile_4_normal.png', notifications=False, default_profile=True, profile_background_image_url_https=None, profile_background_image_url=None, name=u'Jeff Hawkins', is_translation_enabled=False, profile_background_tile=False, favourites_count=0, screen_name=u'jhtestacc', url=None, created_at=datetime.datetime(2017, 2, 27, 21, 15, 41), contributors_enabled=False, location=u'', profile_sidebar_border_color=u'C0DEED', translator_type=u'none', following=False), _json={u'contributors': None, u'truncated': False, u'text': u'watch me ghj khkbn bad sad mad cool mad deniable two day', u'is_quote_status': False, u'in_reply_to_status_id': None, u'id': 837857435603750912, u'favorite_count': 0, u'source': u'<a href=\"https://www.twitter.com/\" rel=\"nofollow\">Joe Plumb</a>', u'retweeted': False, u'coordinates': None, u'entities': {u'symbols': [], u'user_mentions': [], u'hashtags': [], u'urls': []}, u'in_reply_to_screen_name': None, u'in_reply_to_user_id': None, u'retweet_count': 0, u'id_str': u'837857435603750912', u'favorited': False, u'user': {u'follow_request_sent': False, u'has_extended_profile': False, u'profile_use_background_image': True, u'default_profile_image': True, u'id': 836323946488176640, u'profile_background_image_url_https': None, u'verified': False, u'translator_type': u'none', u'profile_text_color': u'333333', u'profile_image_url_https': u'https://abs.twimg.com/sticky/default_profile_images/default_profile_4_normal.png', u'profile_sidebar_fill_color': u'DDEEF6', u'entities': {u'description': {u'urls': []}}, u'followers_count': 0, u'profile_sidebar_border_color': u'C0DEED', u'id_str': u'836323946488176640', u'profile_background_color': u'F5F8FA', u'listed_count': 0, u'is_translation_enabled': False, u'utc_offset': None, u'statuses_count': 19, u'description': u'', u'friends_count': 0, u'location': u'', u'profile_link_color': u'1DA1F2', u'profile_image_url': u'http://abs.twimg.com/sticky/default_profile_images/default_profile_4_normal.png', u'following': False, u'geo_enabled': False, u'profile_background_image_url': None, u'screen_name': u'jhtestacc', u'lang': u'en', u'profile_background_tile': False, u'favourites_count': 0, u'name': u'Jeff Hawkins', u'notifications': False, u'url': None, u'created_at': u'Mon Feb 27 21:15:41 +0000 2017', u'contributors_enabled': False, u'time_zone': None, u'protected': False, u'default_profile': True, u'is_translator': False}, u'geo': None, u'in_reply_to_user_id_str': None, u'lang': u'en', u'created_at': u'Sat Mar 04 02:49:13 +0000 2017', u'in_reply_to_status_id_str': None, u'place': None}, coordinates=None, entities={u'symbols': [], u'user_mentions': [], u'hashtags': [], u'urls': []}, in_reply_to_screen_name=None, id_str=u'837857435603750912', retweet_count=0, in_reply_to_user_id=None, favorited=False, source_url=u'https://www.twitter.com/', user=User(follow_request_sent=False, has_extended_profile=False, profile_use_background_image=True, _json={u'follow_request_sent': False, u'has_extended_profile': False, u'profile_use_background_image': True, u'default_profile_image': True, u'id': 836323946488176640, u'profile_background_image_url_https': None, u'verified': False, u'translator_type': u'none', u'profile_text_color': u'333333', u'profile_image_url_https': u'https://abs.twimg.com/sticky/default_profile_images/default_profile_4_normal.png', u'profile_sidebar_fill_color': u'DDEEF6', u'entities': {u'description': {u'urls': []}}, u'followers_count': 0, u'profile_sidebar_border_color': u'C0DEED', u'id_str': u'836323946488176640', u'profile_background_color': u'F5F8FA', u'listed_count': 0, u'is_translation_enabled': False, u'utc_offset': None, u'statuses_count': 19, u'description': u'', u'friends_count': 0, u'location': u'', u'profile_link_color': u'1DA1F2', u'profile_image_url': u'http://abs.twimg.com/sticky/default_profile_images/default_profile_4_normal.png', u'following': False, u'geo_enabled': False, u'profile_background_image_url': None, u'screen_name': u'jhtestacc', u'lang': u'en', u'profile_background_tile': False, u'favourites_count': 0, u'name': u'Jeff Hawkins', u'notifications': False, u'url': None, u'created_at': u'Mon Feb 27 21:15:41 +0000 2017', u'contributors_enabled': False, u'time_zone': None, u'protected': False, u'default_profile': True, u'is_translator': False}, time_zone=None, id=836323946488176640, description=u'', _api=<tweepy.api.API object at 0x7fbbbc070710>, verified=False, profile_text_color=u'333333', profile_image_url_https=u'https://abs.twimg.com/sticky/default_profile_images/default_profile_4_normal.png', profile_sidebar_fill_color=u'DDEEF6', is_translator=False, geo_enabled=False, entities={u'description': {u'urls': []}}, followers_count=0, protected=False, id_str=u'836323946488176640', default_profile_image=True, listed_count=0, lang=u'en', utc_offset=None, statuses_count=19, profile_background_color=u'F5F8FA', friends_count=0, profile_link_color=u'1DA1F2', profile_image_url=u'http://abs.twimg.com/sticky/default_profile_images/default_profile_4_normal.png', notifications=False, default_profile=True, profile_background_image_url_https=None, profile_background_image_url=None, name=u'Jeff Hawkins', is_translation_enabled=False, profile_background_tile=False, favourites_count=0, screen_name=u'jhtestacc', url=None, created_at=datetime.datetime(2017, 2, 27, 21, 15, 41), contributors_enabled=False, location=u'', profile_sidebar_border_color=u'C0DEED', translator_type=u'none', following=False), geo=None, in_reply_to_user_id_str=None, lang=u'en', created_at=datetime.datetime(2017, 3, 4, 2, 49, 13), in_reply_to_status_id_str=None, place=None, source=u'Joe Plumb', retweeted=False)"
      ]
     },
     "execution_count": 19,
     "metadata": {},
     "output_type": "execute_result"
    }
   ],
   "source": [
    "test_api.update_status('watch me ghj khkbn bad sad mad cool mad deniable two day')"
   ]
  },
  {
   "cell_type": "code",
   "execution_count": null,
   "metadata": {
    "collapsed": true
   },
   "outputs": [],
   "source": []
  }
 ],
 "metadata": {
  "kernelspec": {
   "display_name": "Python2ds",
   "language": "python",
   "name": "python2ds"
  },
  "language_info": {
   "codemirror_mode": {
    "name": "ipython",
    "version": 2
   },
   "file_extension": ".py",
   "mimetype": "text/x-python",
   "name": "python",
   "nbconvert_exporter": "python",
   "pygments_lexer": "ipython2",
   "version": "2.7.12"
  }
 },
 "nbformat": 4,
 "nbformat_minor": 2
}
