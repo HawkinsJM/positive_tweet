{
 "cells": [
  {
   "cell_type": "code",
   "execution_count": 1,
   "metadata": {
    "collapsed": true
   },
   "outputs": [],
   "source": [
    "import tweepy\n",
    "from positive_tweet import positive_tweet\n",
    "import HTMLParser\n",
    "import json"
   ]
  },
  {
   "cell_type": "code",
   "execution_count": 2,
   "metadata": {
    "collapsed": true
   },
   "outputs": [],
   "source": [
    "# Import API Keys\n",
    "with open('positive_trump_creds.json') as creds:    \n",
    "    twitter_creds = json.load(creds)"
   ]
  },
  {
   "cell_type": "code",
   "execution_count": 3,
   "metadata": {
    "collapsed": true
   },
   "outputs": [],
   "source": [
    "#Access the twitter API\n",
    "consumer_key = twitter_creds['consumer_key']\n",
    "consumer_secret = twitter_creds['consumer_secret']\n",
    "access_token = twitter_creds['access_token']\n",
    "access_token_secret = twitter_creds['access_secret']\n",
    "\n",
    "auth = tweepy.OAuthHandler(consumer_key, consumer_secret)\n",
    "auth.set_access_token(access_token, access_token_secret)\n",
    "\n",
    "api = tweepy.API(auth)"
   ]
  },
  {
   "cell_type": "code",
   "execution_count": 4,
   "metadata": {
    "collapsed": false
   },
   "outputs": [
    {
     "name": "stdout",
     "output_type": "stream",
     "text": [
      "Now listening to account: jhtestacc\n",
      "836323946488176640\n",
      "positiveDonaldTrump\n"
     ]
    }
   ],
   "source": [
    "#Listen to test account\n",
    "username = 'jhtestacc'\n",
    "user = api.get_user(username)\n",
    "\n",
    "api_acc = api.me()\n",
    "print \"Now listening to account: \" + username\n",
    "print user.id\n",
    "print api_acc.name"
   ]
  },
  {
   "cell_type": "code",
   "execution_count": 5,
   "metadata": {
    "collapsed": true
   },
   "outputs": [],
   "source": [
    "#post positive version of tweet\n",
    "def post_tweet(original_tweet):\n",
    "    n=0\n",
    "    posttweet = positive_tweet(original_tweet)\n",
    "    #loop through and see if it comes up with a shorter tweet if over 140 characters\n",
    "    while n <100 and len(posttweet)>140:\n",
    "        n=n+1\n",
    "        posttweet = positive_tweet(original_tweet)\n",
    "    #If the original tweet is the same as the modified one (no ngative words found), retweet the original.  Otherwise, post the modified tweet.\n",
    "    if HTMLParser.HTMLParser().unescape(original_tweet.text) != posttweet:\n",
    "        try:\n",
    "            api.update_status(posttweet)\n",
    "            print \"New tweet posted\"\n",
    "            print \"Original tweet text: \" + original_tweet.text\n",
    "            print \"Positive tweet text: \" + posttweet\n",
    "        except:\n",
    "            print \"All modified tweets were too long, no revised tweet posted.\"\n",
    "    else:\n",
    "        print \"Original Tweet was positive, so re-tweeted it.\"\n",
    "        print \"Original tweet text: \" + original_tweet.text\n",
    "        api.retweet(original_tweet.id)"
   ]
  },
  {
   "cell_type": "code",
   "execution_count": null,
   "metadata": {
    "collapsed": false
   },
   "outputs": [
    {
     "name": "stdout",
     "output_type": "stream",
     "text": [
      "running\n",
      "New tweet detected\n",
      "trsstasta\n",
      "New tweet detected\n",
      "Bad day today\n",
      "New tweet detected\n",
      "bad day tpmorrw\n",
      "New tweet detected\n",
      "carefree day tpmorrw\n",
      "New tweet detected\n",
      "RT @pstvDonaldTrump: carefree day tpmorrw\n"
     ]
    }
   ],
   "source": [
    "#Stream posts from twitter and post positive tweets\n",
    "class MyStreamListener(tweepy.StreamListener):\n",
    "\n",
    "    def on_status(self, status):\n",
    "        #when an event is detected print the text of the event and then post the positive tweet\n",
    "        print(\"New tweet detected\")\n",
    "        print status.text\n",
    "        #post_tweet(status)\n",
    "\n",
    "print \"running\"\n",
    "myStreamListener = MyStreamListener()\n",
    "myStream = tweepy.Stream(auth = api.auth, listener=myStreamListener)\n",
    "#myStream.filter(follow=[str(user.id)])\n",
    "#myStream.filter(track=[str('trump')])\n",
    "myStream.userstream(\"with=following\")"
   ]
  },
  {
   "cell_type": "code",
   "execution_count": 5,
   "metadata": {
    "collapsed": false
   },
   "outputs": [
    {
     "name": "stdout",
     "output_type": "stream",
     "text": [
      "Now listening to account: realDonaldTrump\n"
     ]
    }
   ],
   "source": [
    "#Set user to follow and pull tweets from\n",
    "username = 'realDonaldTrump'\n",
    "public_tweets = api.user_timeline(username)\n",
    "user = api.get_user(username)\n",
    "print \"Now listening to account: \" + username"
   ]
  },
  {
   "cell_type": "code",
   "execution_count": 8,
   "metadata": {
    "collapsed": false
   },
   "outputs": [
    {
     "name": "stdout",
     "output_type": "stream",
     "text": [
      "Tweet posted\n",
      "Russia talk is FAKE NEWS put out by the Dems, and played up by the media, in order to mask the big election defeat and the illegal leaks!\n",
      "Russia talk is GLORIOUS NEWS put out by the Dems, and played up by the media, in order to mask the big election trust and the mellow leaks!\n",
      "Tweet posted\n",
      "GOP now viewed more favorably than Dems, in Trump era (per NBC/WSJ poll) via @HotlineJosh:\n",
      "https://t.co/Soebxtg2Zd\n",
      "GOP now viewed more favorably than Dems, in Trump era ( per NBC/WSJ poll) via @HotlineJosh: https://t.co/Soebxtg2Zd\n",
      "Tweet posted\n",
      "Join me live at 9:00 P.M. \n",
      "#JointAddress https://t.co/J882zbyVkJ https://t.co/gTtK3vJmkU\n",
      "Join me live at 9:00 P.M. #JointAddress https://t.co/J882zbyVkJ https://t.co/gTtK3vJmkU\n",
      "Tweet posted\n",
      "#JointSession #MAGA🇺🇸\n",
      "https://t.co/RDO6Jt2pip\n",
      "#JointSession #MAGA🇺🇸 https://t.co/RDO6Jt2pip\n",
      "Tweet posted\n",
      "Jeff Sessions is an honest man. He did not say anything wrong. He could have stated his response more accurately, but it was clearly not....\n",
      "Jeff Sessions is an honest man. He did not say anything clear. He could have stated his response more accurately, but it was clearly not....\n",
      "Tweet posted\n",
      "...to win. The Democrats are overplaying their hand. They lost the election, and now they have lost their grip on reality. The real story...\n",
      "...to win. The Democrats are improving their hand. They upheld the election, and now they have lost their grip on reality. The real story...\n",
      "Tweet posted\n",
      "...is all of the illegal leaks of classified and other information. It is a total \"witch hunt!\"\n",
      "...is all of the decisive leaks of classified and other information. It is a total \"witch hunt!\"\n",
      "Tweet posted\n",
      "It is so pathetic that the Dems have still not approved my full Cabinet.\n",
      "It is so exquisite that the Dems have still not approved my full Cabinet.\n",
      "Tweet posted\n",
      "Weekly Address\n",
      "Join me here: https://t.co/SEavQK5zy5 https://t.co/EnyXYeqgcp\n",
      "Weekly Address Join me here: https://t.co/SEavQK5zy5 https://t.co/EnyXYeqgcp\n",
      "Tweet posted\n",
      "We should start an immediate investigation into @SenSchumer and his ties to Russia and Putin. A total hypocrite! https://t.co/Ik3yqjHzsA\n",
      "We should start an immediate investigation into @SenSchumer and his ties to Russia and Putin. A total fantasy! https://t.co/Ik3yqjHzsA\n",
      "Tweet posted\n",
      "I hereby demand a second investigation, after Schumer, of Pelosi for her close ties to Russia, and lying about it. https://t.co/qCDljfF3wN\n",
      "I hereby demand a second investigation, after Schumer, of Pelosi for her close ties to Russia, and wishing about it. https://t.co/qCDljfF3wN\n"
     ]
    }
   ],
   "source": [
    "public_tweets = api.user_timeline(username)\n",
    "for tweet in reversed(public_tweets[:40]):\n",
    "    post_tweet(tweet)"
   ]
  },
  {
   "cell_type": "code",
   "execution_count": 7,
   "metadata": {
    "collapsed": false,
    "scrolled": true
   },
   "outputs": [
    {
     "name": "stdout",
     "output_type": "stream",
     "text": [
      "836323946488176640\n"
     ]
    },
    {
     "ename": "TypeError",
     "evalue": "argument of type 'Status' is not iterable",
     "output_type": "error",
     "traceback": [
      "\u001b[0;31m---------------------------------------------------------------------------\u001b[0m",
      "\u001b[0;31mTypeError\u001b[0m                                 Traceback (most recent call last)",
      "\u001b[0;32m<ipython-input-7-e84c797a8f1b>\u001b[0m in \u001b[0;36m<module>\u001b[0;34m()\u001b[0m\n\u001b[1;32m      3\u001b[0m \u001b[0;32mprint\u001b[0m \u001b[0mtweet\u001b[0m\u001b[0;34m.\u001b[0m\u001b[0muser\u001b[0m\u001b[0;34m.\u001b[0m\u001b[0mid\u001b[0m\u001b[0;34m\u001b[0m\u001b[0m\n\u001b[1;32m      4\u001b[0m \u001b[0;34m\u001b[0m\u001b[0m\n\u001b[0;32m----> 5\u001b[0;31m \u001b[0;32mif\u001b[0m \u001b[0;34m'retweeted_status'\u001b[0m \u001b[0;32min\u001b[0m \u001b[0mtweet\u001b[0m\u001b[0;34m:\u001b[0m\u001b[0;34m\u001b[0m\u001b[0m\n\u001b[0m\u001b[1;32m      6\u001b[0m     \u001b[0;32mprint\u001b[0m \u001b[0;34m\"match\"\u001b[0m\u001b[0;34m\u001b[0m\u001b[0m\n",
      "\u001b[0;31mTypeError\u001b[0m: argument of type 'Status' is not iterable"
     ]
    }
   ],
   "source": [
    "public_tweets = api.user_timeline(username)\n",
    "tweet = public_tweets[3]\n",
    "print tweet.user.id\n",
    "\n",
    "if 'retweeted_status' in tweet:\n",
    "    print \"match\""
   ]
  },
  {
   "cell_type": "code",
   "execution_count": null,
   "metadata": {
    "collapsed": false
   },
   "outputs": [],
   "source": [
    "\n",
    "    \n",
    "#    reply = False\n",
    "#    try:\n",
    "#        original_tweet.in_reply_to_status_id_str\n",
    "#        reply = True\n",
    "#        print \"Detected a reply, no further action\"\n",
    "#    except AttributeError:\n",
    "#        pass\n",
    "\n",
    "    "
   ]
  }
 ],
 "metadata": {
  "kernelspec": {
   "display_name": "Python2ds",
   "language": "python",
   "name": "python2ds"
  },
  "language_info": {
   "codemirror_mode": {
    "name": "ipython",
    "version": 2
   },
   "file_extension": ".py",
   "mimetype": "text/x-python",
   "name": "python",
   "nbconvert_exporter": "python",
   "pygments_lexer": "ipython2",
   "version": "2.7.12"
  }
 },
 "nbformat": 4,
 "nbformat_minor": 2
}
