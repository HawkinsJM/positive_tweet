{
 "cells": [
  {
   "cell_type": "code",
   "execution_count": 7,
   "metadata": {
    "collapsed": false
   },
   "outputs": [],
   "source": [
    "import tweepy\n",
    "from positive_tweet import positive_tweet\n",
    "import HTMLParser\n",
    "import json"
   ]
  },
  {
   "cell_type": "code",
   "execution_count": 9,
   "metadata": {
    "collapsed": false
   },
   "outputs": [],
   "source": [
    "with open('twitter_creds2.json', 'w') as f:\n",
    "    json.dump(credentials, f, ensure_ascii=False)"
   ]
  },
  {
   "cell_type": "code",
   "execution_count": 28,
   "metadata": {
    "collapsed": false
   },
   "outputs": [],
   "source": [
    "# Import API Keys\n",
    "with open('twitter_creds.json') as creds:    \n",
    "    tw_creds = json.load(creds)"
   ]
  },
  {
   "cell_type": "code",
   "execution_count": 29,
   "metadata": {
    "collapsed": false
   },
   "outputs": [],
   "source": [
    "#Access the twitter API\n",
    "consumer_key = tw_creds['consumer_key']\n",
    "consumer_secret = tw_creds['consumer_secret']\n",
    "access_token = tw_creds['access_token']\n",
    "access_token_secret = tw_creds['access_secret']\n",
    "\n",
    "auth = tweepy.OAuthHandler(consumer_key, consumer_secret)\n",
    "auth.set_access_token(access_token, access_token_secret)\n",
    "\n",
    "api = tweepy.API(auth)"
   ]
  },
  {
   "cell_type": "code",
   "execution_count": 30,
   "metadata": {
    "collapsed": false
   },
   "outputs": [
    {
     "name": "stdout",
     "output_type": "stream",
     "text": [
      "Now listening to account: realDonaldTrump\n"
     ]
    }
   ],
   "source": [
    "#Set user to follow and pull tweets from\n",
    "username = 'realDonaldTrump'\n",
    "public_tweets = api.user_timeline(username)\n",
    "user = api.get_user(username)\n",
    "print \"Now listening to account: \" + username"
   ]
  },
  {
   "cell_type": "code",
   "execution_count": 31,
   "metadata": {
    "collapsed": false
   },
   "outputs": [],
   "source": [
    "#post positive version of tweet\n",
    "def post_tweet(original_tweet):\n",
    "    n=0\n",
    "    posttweet = positive_tweet(original_tweet.text)\n",
    "    #loop through and see if it comes up with a shorter tweet if over 140 characters\n",
    "    while n <100 and len(posttweet)>140:\n",
    "        n=n+1\n",
    "        posttweet = positive_tweet(original_tweet.text)\n",
    "    #If the original tweet is the same as the modified one (no ngative words found), retweet the original.  Otherwise, post the modified tweet.\n",
    "    if HTMLParser.HTMLParser().unescape(original_tweet.text) != posttweet:\n",
    "        try:\n",
    "            api.update_status(posttweet)\n",
    "            print \"Tweet posted\"\n",
    "            print original_tweet.text\n",
    "            print posttweet\n",
    "        except:\n",
    "            print \"too long, not posted\"\n",
    "    else:\n",
    "        api.retweet(original_tweet.id)"
   ]
  },
  {
   "cell_type": "code",
   "execution_count": null,
   "metadata": {
    "collapsed": false
   },
   "outputs": [],
   "source": [
    "#Stream posts from twitter and post positive tweets\n",
    "class MyStreamListener(tweepy.StreamListener):\n",
    "\n",
    "    def on_status(self, status):\n",
    "        #when an event is detected print the text of the event and then post the positive tweet\n",
    "        print(\"New tweet detected\")\n",
    "        print status.text\n",
    "        #post_tweet(status)\n",
    "\n",
    "\n",
    "myStreamListener = MyStreamListener()\n",
    "myStream = tweepy.Stream(auth = api.auth, listener=myStreamListener)\n",
    "myStream.filter(track=[str(user.id)])\n"
   ]
  }
 ],
 "metadata": {
  "kernelspec": {
   "display_name": "Python2ds",
   "language": "python",
   "name": "python2ds"
  }
 },
 "nbformat": 4,
 "nbformat_minor": 2
}
